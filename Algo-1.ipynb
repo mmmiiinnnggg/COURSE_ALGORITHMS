{
 "cells": [
  {
   "cell_type": "code",
   "execution_count": 1,
   "id": "d4e1465f",
   "metadata": {},
   "outputs": [],
   "source": [
    "import numpy as np\n",
    "import math"
   ]
  },
  {
   "cell_type": "code",
   "execution_count": 2,
   "id": "96b5d5ed",
   "metadata": {},
   "outputs": [
    {
     "name": "stdout",
     "output_type": "stream",
     "text": [
      "-adj_log\n",
      " [[-0.    0.14  0.31 -4.72  0.07 -0.23 -0.31 -4.28]\n",
      " [-0.14 -0.    0.16 -4.86 -0.07 -0.37 -0.46 -4.42]\n",
      " [-0.31 -0.16 -0.   -5.03 -0.24 -0.54 -0.62 -4.59]\n",
      " [ 4.72  4.87  5.03 -0.    4.79  4.49  4.4   0.44]\n",
      " [-0.07  0.07  0.24 -4.79 -0.   -0.3  -0.39 -4.35]\n",
      " [ 0.23  0.37  0.54 -4.49  0.3  -0.   -0.09 -4.05]\n",
      " [ 0.31  0.46  0.62 -4.4   0.39  0.09 -0.   -3.96]\n",
      " [ 4.28  4.42  4.59 -0.44  4.35  4.05  3.96 -0.  ]]\n"
     ]
    }
   ],
   "source": [
    "currenies = {0: \"USD\",1:\"EUR\",2:\"GBP\",3:\"JPY\",4:\"CHF\",5:\"CAD\",6:\"AUD\",7:\"RUB\"}\n",
    "adj = [\n",
    "    [1, 0.8651, 0.7340, 111.77, 0.9290, 1.2538, 1.3692, 72.0144],\n",
    "    [1.1559, 1, 0.8483, 129.19, 1.0740, 1.4492, 1.5826, 83.2316],\n",
    "    [1.3626, 1.1788, 1, 152.29, 1.2657, 1.7083, 1.8656, 98.124],\n",
    "    [0.0089, 0.0077, 0.00657, 1, 0.0083, 0.01122, 0.01225, 0.6443],\n",
    "    [1.0765, 0.9312, 0.7901, 120.29, 1, 1.3495, 1.4739, 77.52],\n",
    "    [0.7976, 0.6901, 0.5854, 89.15, 0.7411, 1, 1.0921, 57.43],\n",
    "    [0.7304, 0.6319, 0.5360, 81.64, 0.6784, 0.9157, 1, 52.60],\n",
    "    [0.01389, 0.01201, 0.01019, 1.5520, 0.01290, 0.01741, 0.01901,1]\n",
    "      ]\n",
    "adj_log = -np.log(adj)\n",
    "print(\"-adj_log\\n\",np.round(adj_log,2))"
   ]
  },
  {
   "cell_type": "code",
   "execution_count": 3,
   "id": "95f1aff7",
   "metadata": {},
   "outputs": [],
   "source": [
    "def bellman_ford(adj, src):\n",
    "\n",
    "    # Step 1: Initialize distances from origin to all\n",
    "    # dist = [np.inf] * len(adj)\n",
    "    dist = [np.inf] * len(adj)\n",
    "    pred = [-1] * len(adj)\n",
    "    dist[src] = 0\n",
    "    \n",
    "    # Step 2: Relaxation for all edges |V|-1 times.\n",
    "    for _ in range(len(dist)-1):\n",
    "        for u in range(len(dist)):\n",
    "            for v in range(len(dist)):\n",
    "                if(u != v and not (v in pred) and dist[v] > dist[u] + adj[u][v]):\n",
    "                    dist[v] = dist[u] + adj[u][v]\n",
    "                    pred[v] = u\n",
    "        # print(\"dist \", np.round(dist,2))\n",
    "        # print(\"pred \",pred)\n",
    "    if -1 in pred: \n",
    "        ver = np.array(range(8)).sum() - np.array(pred).sum() - 1\n",
    "        pred[pred.index(-1)] = ver\n",
    "    # print(\"\\n\")\n",
    "    # print(\"dist \", np.round(dist,2))\n",
    "    # print(\"pred \",pred)\n",
    "    \n",
    "    # Step 3: Check for negative-weight cycles\n",
    "    for u in range(len(dist)):\n",
    "        for v in range(len(dist)):\n",
    "            if u != v and dist[u] != np.inf and dist[u] + adj[u][v] < dist[v]:\n",
    "                # print(\"Negative weight cycle!\")\n",
    "                return False, dist, pred\n",
    "    \n",
    "    return True, dist, pred # There is no negative cycle"
   ]
  },
  {
   "cell_type": "code",
   "execution_count": 4,
   "id": "9be23bf1",
   "metadata": {},
   "outputs": [],
   "source": [
    "def dijkstra(adj, src):\n",
    "    passed = [src]\n",
    "    nopassed = [x for x in range(len(adj)) if x != src]\n",
    "    dist = adj[src]\n",
    "    pred = [src] * len(adj)\n",
    "    \n",
    "    while len(nopassed):\n",
    "        idx = nopassed[0]\n",
    "        for i in nopassed:\n",
    "            if dist[i] < dist[idx]:\n",
    "                idx = i\n",
    "        \n",
    "        nopassed.remove(idx)\n",
    "        passed.append(idx)\n",
    "        \n",
    "        for i in nopassed:\n",
    "            if dist[idx] + adj[idx][i] < dist[i]:\n",
    "                dist[i] = dist[idx] + adj[idx][i]\n",
    "                pred[i] = idx \n",
    "                \n",
    "        # print(\"nopassed\",nopassed)\n",
    "        # print(\"passed\",passed)\n",
    "        # print(\"dist\", np.round(dist,2))\n",
    "        # print(\"pred\", pred)\n",
    "        # print(\"\\n\")\n",
    "    return dist, pred"
   ]
  },
  {
   "cell_type": "code",
   "execution_count": 5,
   "id": "bef74f09",
   "metadata": {},
   "outputs": [],
   "source": [
    "def resursion(idx, pred, N):\n",
    "    if N == 0:\n",
    "        return str(idx)\n",
    "    return resursion(pred[idx]) + \" -> \" + str(idx)"
   ]
  },
  {
   "cell_type": "code",
   "execution_count": 6,
   "id": "408f6818",
   "metadata": {},
   "outputs": [],
   "source": [
    "def find_minus_cycle(adj, src):\n",
    "    minus_cycle, dist, pred = bellman_ford(adj, src)\n",
    "    if minus_cycle == False:\n",
    "        # find the cycle:\n",
    "        cycle = [[]]\n",
    "        idx = 0\n",
    "        for u in range(len(dist)):\n",
    "            for v in range(len(dist)):\n",
    "                if u != v and dist[u] + adj[u][v] < dist[v]:\n",
    "                    # relaxataion : v -> back |V| steps\n",
    "                    for i in range(len(adj)+1):\n",
    "                        if i != len(adj):\n",
    "                            cycle[idx].append(v)\n",
    "                            v = pred[v]          \n",
    "                    idx = idx + 1\n",
    "                    cycle.append([])\n",
    "        cycle.pop()\n",
    "        \n",
    "        # find-min\n",
    "        min_weight = np.inf\n",
    "        min_path = []\n",
    "        for path in cycle:\n",
    "            sum_weight = 0\n",
    "            for k in path:\n",
    "                sum_weight += adj[pred[k]][k]\n",
    "            if sum_weight < min_weight: \n",
    "                min_weight = sum_weight\n",
    "                min_path = path\n",
    "        \n",
    "        return min_path[::-1], min_weight"
   ]
  },
  {
   "cell_type": "code",
   "execution_count": 7,
   "id": "d02cba8b",
   "metadata": {},
   "outputs": [],
   "source": [
    "def list_move_left(A,a):\n",
    "    for i in range(a):\n",
    "        A.insert(len(A),A[0])\n",
    "        A.remove(A[0])\n",
    "    return A"
   ]
  },
  {
   "cell_type": "code",
   "execution_count": 8,
   "id": "bc58c87f",
   "metadata": {},
   "outputs": [],
   "source": [
    "def path_original(adj):\n",
    "    adj_minus_log = -np.log(adj)\n",
    "    abrita_array = []\n",
    "    for i in range(8):\n",
    "        min_path, min_weight = find_minus_cycle(adj_minus_log, i)\n",
    "        product = 1\n",
    "        for k in range(7):\n",
    "            product *= adj[min_path[k]][min_path[k+1]]\n",
    "        product *= adj[min_path[7]][min_path[0]]\n",
    "        \n",
    "        abrita_array.append(product)\n",
    "        min_path = list_move_left(min_path, min_path.index(i))\n",
    "        min_path.append(i)\n",
    "        \n",
    "        print(\"from \"+ str(i) + \" : \" + str(min_path))\n",
    "        print(product)\n",
    "        \n",
    "        print(\"\\n\")"
   ]
  },
  {
   "cell_type": "code",
   "execution_count": 9,
   "id": "faa259c4",
   "metadata": {},
   "outputs": [
    {
     "name": "stdout",
     "output_type": "stream",
     "text": [
      "from 0 : [0, 2, 3, 5, 1, 4, 6, 7, 0]\n",
      "1.0009966430467783\n",
      "\n",
      "\n",
      "from 1 : [1, 3, 5, 6, 7, 0, 2, 4, 1]\n",
      "1.0005572875046422\n",
      "\n",
      "\n",
      "from 2 : [2, 3, 5, 6, 7, 0, 1, 4, 2]\n",
      "1.0008460874930094\n",
      "\n",
      "\n",
      "from 3 : [3, 5, 6, 7, 0, 1, 4, 2, 3]\n",
      "1.0008460874930094\n",
      "\n",
      "\n",
      "from 4 : [4, 6, 7, 0, 2, 3, 5, 1, 4]\n",
      "1.0009966430467783\n",
      "\n",
      "\n",
      "from 5 : [5, 6, 7, 5, 6, 7, 6, 7, 5]\n",
      "1.0001420928824434\n",
      "\n",
      "\n",
      "from 6 : [6, 7, 0, 2, 3, 5, 4, 1, 6]\n",
      "1.000781423451686\n",
      "\n",
      "\n",
      "from 7 : [7, 0, 2, 3, 5, 1, 4, 6, 7]\n",
      "1.0009966430467785\n",
      "\n",
      "\n"
     ]
    }
   ],
   "source": [
    "path_original(adj)"
   ]
  },
  {
   "cell_type": "code",
   "execution_count": null,
   "id": "cff3ad1a",
   "metadata": {},
   "outputs": [],
   "source": []
  }
 ],
 "metadata": {
  "kernelspec": {
   "display_name": "Python 3",
   "language": "python",
   "name": "python3"
  },
  "language_info": {
   "codemirror_mode": {
    "name": "ipython",
    "version": 3
   },
   "file_extension": ".py",
   "mimetype": "text/x-python",
   "name": "python",
   "nbconvert_exporter": "python",
   "pygments_lexer": "ipython3",
   "version": "3.8.8"
  }
 },
 "nbformat": 4,
 "nbformat_minor": 5
}
